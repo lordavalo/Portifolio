{
  "nbformat": 4,
  "nbformat_minor": 0,
  "metadata": {
    "colab": {
      "name": "Tokyo.ipynb",
      "provenance": [],
      "collapsed_sections": [],
      "authorship_tag": "ABX9TyNlFhYmqecl8nEbSo7WA4JC",
      "include_colab_link": true
    },
    "kernelspec": {
      "name": "python3",
      "display_name": "Python 3"
    },
    "language_info": {
      "name": "python"
    }
  },
  "cells": [
    {
      "cell_type": "markdown",
      "metadata": {
        "id": "view-in-github",
        "colab_type": "text"
      },
      "source": [
        "<a href=\"https://colab.research.google.com/github/lordavalo/Portifolio/blob/main/Tokyo.ipynb\" target=\"_parent\"><img src=\"https://colab.research.google.com/assets/colab-badge.svg\" alt=\"Open In Colab\"/></a>"
      ]
    },
    {
      "cell_type": "markdown",
      "metadata": {
        "id": "2Qmmd67XJrbS"
      },
      "source": [
        "# Análise dos Dados do Airbnb - *Tokyo*\n",
        "\n",
        "O [Airbnb](https://www.airbnb.com.br/) já é considerado como sendo a **maior empresa hoteleira da atualidade**. Ah, o detalhe é que ele **não possui nenhum hotel**!\n",
        "\n",
        "Conectando pessoas que querem viajar (e se hospedar) com anfitriões que querem alugar seus imóveis de maneira prática, o Airbnb fornece uma plataforma inovadora para tornar essa hospedagem alternativa.\n",
        "\n",
        "No final de 2018, a Startup fundada 10 anos atrás, já havia **hospedado mais de 300 milhões** de pessoas ao redor de todo o mundo, desafiando as redes hoteleiras tradicionais.\n",
        "\n",
        "Uma das iniciativas do Airbnb é disponibilizar dados do site, para algumas das principais cidades do mundo. Por meio do portal [Inside Airbnb](http://insideairbnb.com/get-the-data.html), é possível baixar uma grande quantidade de dados para desenvolver projetos e soluções de *Data Science*.\n",
        "\n",
        "<center><img alt=\"Analisando Airbnb\" width=\"10%\" src=\"https://www.area360.com.au/wp-content/uploads/2017/09/airbnb-logo.jpg\"></center>\n",
        "\n",
        "**Neste *notebook*, iremos analisar os dados referentes à cidade de Tokyo, e ver quais insights podem ser extraídos a partir de dados brutos.**"
      ]
    },
    {
      "cell_type": "markdown",
      "metadata": {
        "id": "qp4NtTFgBApD"
      },
      "source": [
        "## Obtenção dos Dados\n",
        "Todos os dados usados aqui foram obtidos a partir do site [Inside Airbnb](http://insideairbnb.com/get-the-data.html).\n",
        "\n",
        "Para esta análise exploratória inicial, será baixado apenas o seguinte arquivo:\n",
        "\n",
        "* `listings.csv` - *Summary information and metrics for listings in Tokyo (good for visualisations).*\n"
      ]
    },
    {
      "cell_type": "code",
      "metadata": {
        "id": "dzS-ttCc_hlH"
      },
      "source": [
        "#Importação de Bibliotecas\n",
        "import pandas as pd\n",
        "import matplotlib.pyplot as plt\n",
        "import seaborn as sns\n",
        "\n",
        "\n",
        "%matplotlib inline"
      ],
      "execution_count": 23,
      "outputs": []
    },
    {
      "cell_type": "code",
      "metadata": {
        "id": "IObWexfGCZIc"
      },
      "source": [
        "#importar o arquivo listings.csv para um DataFrame\n",
        "\n",
        "df = pd.read_csv(\"http://data.insideairbnb.com/japan/kant%C5%8D/tokyo/2021-02-25/visualisations/listings.csv\")"
      ],
      "execution_count": 24,
      "outputs": []
    },
    {
      "cell_type": "markdown",
      "metadata": {
        "id": "lsziGsCMDIOn"
      },
      "source": [
        "## Análise dos Dados\n",
        "Esta etapa tem por objetivo criar uma consciência situacional inicial e permitir um entendimento de como os dados estão estruturados."
      ]
    },
    {
      "cell_type": "markdown",
      "metadata": {
        "id": "CVL0pIM9NoI0"
      },
      "source": [
        "**Dicionário das variáveis**\n",
        "\n",
        "* `id` - número de id gerado para identificar o imóvel\n",
        "* `name` - nome da propriedade anunciada\n",
        "* `host_id` - número de id do proprietário (anfitrião) da propriedade\n",
        "* `host_name` - Nome do anfitrião\n",
        "* `neighbourhood_group` - esta coluna não contém nenhum valor válido\n",
        "* `neighbourhood` - nome do bairro\n",
        "* `latitude` - coordenada da latitude da propriedade\n",
        "* `longitude` - coordenada da longitude da propriedade\n",
        "* `room_type` - informa o tipo de quarto que é oferecido\n",
        "* `price` - preço para alugar o imóvel\n",
        "* `minimum_nights` - quantidade mínima de noites para reservar\n",
        "* `number_of_reviews` - número de reviews que a propriedade possui\n",
        "* `last_review` - data do último review\n",
        "* `reviews_per_month` - quantidade de reviews por mês\n",
        "* `calculated_host_listings_count` - quantidade de imóveis do mesmo anfitrião\n",
        "* `availability_365` - número de dias de disponibilidade dentro de 365 dias\n",
        "\n",
        "Antes de iniciar qualquer análise, vamos verificar a cara do nosso *dataset*, analisando as 5 primeiras entradas e as 5 últimas."
      ]
    },
    {
      "cell_type": "code",
      "metadata": {
        "id": "1Jo-K2gmC-og",
        "colab": {
          "base_uri": "https://localhost:8080/",
          "height": 479
        },
        "outputId": "d8d58b4f-2f7b-4fd8-8155-ff6e215dd6a6"
      },
      "source": [
        "#ver as 5 primeiras entradas\n",
        "df.head()"
      ],
      "execution_count": 25,
      "outputs": [
        {
          "output_type": "execute_result",
          "data": {
            "text/html": [
              "<div>\n",
              "<style scoped>\n",
              "    .dataframe tbody tr th:only-of-type {\n",
              "        vertical-align: middle;\n",
              "    }\n",
              "\n",
              "    .dataframe tbody tr th {\n",
              "        vertical-align: top;\n",
              "    }\n",
              "\n",
              "    .dataframe thead th {\n",
              "        text-align: right;\n",
              "    }\n",
              "</style>\n",
              "<table border=\"1\" class=\"dataframe\">\n",
              "  <thead>\n",
              "    <tr style=\"text-align: right;\">\n",
              "      <th></th>\n",
              "      <th>id</th>\n",
              "      <th>name</th>\n",
              "      <th>host_id</th>\n",
              "      <th>host_name</th>\n",
              "      <th>neighbourhood_group</th>\n",
              "      <th>neighbourhood</th>\n",
              "      <th>latitude</th>\n",
              "      <th>longitude</th>\n",
              "      <th>room_type</th>\n",
              "      <th>price</th>\n",
              "      <th>minimum_nights</th>\n",
              "      <th>number_of_reviews</th>\n",
              "      <th>last_review</th>\n",
              "      <th>reviews_per_month</th>\n",
              "      <th>calculated_host_listings_count</th>\n",
              "      <th>availability_365</th>\n",
              "    </tr>\n",
              "  </thead>\n",
              "  <tbody>\n",
              "    <tr>\n",
              "      <th>0</th>\n",
              "      <td>197677</td>\n",
              "      <td>Oshiage Holiday Apartment</td>\n",
              "      <td>964081</td>\n",
              "      <td>Yoshimi &amp; Marek</td>\n",
              "      <td>NaN</td>\n",
              "      <td>Sumida Ku</td>\n",
              "      <td>35.71721</td>\n",
              "      <td>139.82596</td>\n",
              "      <td>Entire home/apt</td>\n",
              "      <td>11000</td>\n",
              "      <td>3</td>\n",
              "      <td>165</td>\n",
              "      <td>2020-03-04</td>\n",
              "      <td>1.44</td>\n",
              "      <td>1</td>\n",
              "      <td>328</td>\n",
              "    </tr>\n",
              "    <tr>\n",
              "      <th>1</th>\n",
              "      <td>776070</td>\n",
              "      <td>Kero-kero house room 1</td>\n",
              "      <td>801494</td>\n",
              "      <td>Kei</td>\n",
              "      <td>NaN</td>\n",
              "      <td>Kita Ku</td>\n",
              "      <td>35.73844</td>\n",
              "      <td>139.76917</td>\n",
              "      <td>Private room</td>\n",
              "      <td>7428</td>\n",
              "      <td>3</td>\n",
              "      <td>228</td>\n",
              "      <td>2020-01-18</td>\n",
              "      <td>2.27</td>\n",
              "      <td>1</td>\n",
              "      <td>146</td>\n",
              "    </tr>\n",
              "    <tr>\n",
              "      <th>2</th>\n",
              "      <td>899003</td>\n",
              "      <td>Classy room @Shinjuku, Takadanoba</td>\n",
              "      <td>4799233</td>\n",
              "      <td>Yu</td>\n",
              "      <td>NaN</td>\n",
              "      <td>Shinjuku Ku</td>\n",
              "      <td>35.70865</td>\n",
              "      <td>139.69681</td>\n",
              "      <td>Entire home/apt</td>\n",
              "      <td>5200</td>\n",
              "      <td>30</td>\n",
              "      <td>93</td>\n",
              "      <td>2019-11-25</td>\n",
              "      <td>0.95</td>\n",
              "      <td>2</td>\n",
              "      <td>0</td>\n",
              "    </tr>\n",
              "    <tr>\n",
              "      <th>3</th>\n",
              "      <td>1016831</td>\n",
              "      <td>WOMAN ONLY LICENSED ! Cosy &amp; Cat behnd Shibuya</td>\n",
              "      <td>5596383</td>\n",
              "      <td>Wakana</td>\n",
              "      <td>NaN</td>\n",
              "      <td>Setagaya Ku</td>\n",
              "      <td>35.65833</td>\n",
              "      <td>139.67153</td>\n",
              "      <td>Private room</td>\n",
              "      <td>11000</td>\n",
              "      <td>1</td>\n",
              "      <td>211</td>\n",
              "      <td>2020-03-16</td>\n",
              "      <td>2.19</td>\n",
              "      <td>1</td>\n",
              "      <td>139</td>\n",
              "    </tr>\n",
              "    <tr>\n",
              "      <th>4</th>\n",
              "      <td>1033276</td>\n",
              "      <td>private room @Senju area</td>\n",
              "      <td>5686404</td>\n",
              "      <td>Yukiko</td>\n",
              "      <td>NaN</td>\n",
              "      <td>Adachi Ku</td>\n",
              "      <td>35.74253</td>\n",
              "      <td>139.79730</td>\n",
              "      <td>Private room</td>\n",
              "      <td>30000</td>\n",
              "      <td>1</td>\n",
              "      <td>72</td>\n",
              "      <td>2018-06-17</td>\n",
              "      <td>0.76</td>\n",
              "      <td>2</td>\n",
              "      <td>271</td>\n",
              "    </tr>\n",
              "  </tbody>\n",
              "</table>\n",
              "</div>"
            ],
            "text/plain": [
              "        id  ... availability_365\n",
              "0   197677  ...              328\n",
              "1   776070  ...              146\n",
              "2   899003  ...                0\n",
              "3  1016831  ...              139\n",
              "4  1033276  ...              271\n",
              "\n",
              "[5 rows x 16 columns]"
            ]
          },
          "metadata": {
            "tags": []
          },
          "execution_count": 25
        }
      ]
    },
    {
      "cell_type": "code",
      "metadata": {
        "id": "wp326pJADhsc",
        "colab": {
          "base_uri": "https://localhost:8080/",
          "height": 462
        },
        "outputId": "d40a01c8-c49b-40a4-f1c3-6612d4df32ab"
      },
      "source": [
        "#ver as 5 últimas entradas\n",
        "df.tail()"
      ],
      "execution_count": 26,
      "outputs": [
        {
          "output_type": "execute_result",
          "data": {
            "text/html": [
              "<div>\n",
              "<style scoped>\n",
              "    .dataframe tbody tr th:only-of-type {\n",
              "        vertical-align: middle;\n",
              "    }\n",
              "\n",
              "    .dataframe tbody tr th {\n",
              "        vertical-align: top;\n",
              "    }\n",
              "\n",
              "    .dataframe thead th {\n",
              "        text-align: right;\n",
              "    }\n",
              "</style>\n",
              "<table border=\"1\" class=\"dataframe\">\n",
              "  <thead>\n",
              "    <tr style=\"text-align: right;\">\n",
              "      <th></th>\n",
              "      <th>id</th>\n",
              "      <th>name</th>\n",
              "      <th>host_id</th>\n",
              "      <th>host_name</th>\n",
              "      <th>neighbourhood_group</th>\n",
              "      <th>neighbourhood</th>\n",
              "      <th>latitude</th>\n",
              "      <th>longitude</th>\n",
              "      <th>room_type</th>\n",
              "      <th>price</th>\n",
              "      <th>minimum_nights</th>\n",
              "      <th>number_of_reviews</th>\n",
              "      <th>last_review</th>\n",
              "      <th>reviews_per_month</th>\n",
              "      <th>calculated_host_listings_count</th>\n",
              "      <th>availability_365</th>\n",
              "    </tr>\n",
              "  </thead>\n",
              "  <tbody>\n",
              "    <tr>\n",
              "      <th>11303</th>\n",
              "      <td>48245895</td>\n",
              "      <td>有民宿许可、新宿駅徒歩圏、有付费停车位</td>\n",
              "      <td>49474412</td>\n",
              "      <td>Dong</td>\n",
              "      <td>NaN</td>\n",
              "      <td>Shinjuku Ku</td>\n",
              "      <td>35.69420</td>\n",
              "      <td>139.69182</td>\n",
              "      <td>Entire home/apt</td>\n",
              "      <td>5000</td>\n",
              "      <td>2</td>\n",
              "      <td>0</td>\n",
              "      <td>NaN</td>\n",
              "      <td>NaN</td>\n",
              "      <td>8</td>\n",
              "      <td>292</td>\n",
              "    </tr>\n",
              "    <tr>\n",
              "      <th>11304</th>\n",
              "      <td>48248681</td>\n",
              "      <td>【宿家】千束町 浅草 酉の市 鷲神社の裏にある一軒家</td>\n",
              "      <td>176875986</td>\n",
              "      <td>Yadoya</td>\n",
              "      <td>NaN</td>\n",
              "      <td>Taito Ku</td>\n",
              "      <td>35.72089</td>\n",
              "      <td>139.79126</td>\n",
              "      <td>Entire home/apt</td>\n",
              "      <td>10309</td>\n",
              "      <td>1</td>\n",
              "      <td>0</td>\n",
              "      <td>NaN</td>\n",
              "      <td>NaN</td>\n",
              "      <td>35</td>\n",
              "      <td>0</td>\n",
              "    </tr>\n",
              "    <tr>\n",
              "      <th>11305</th>\n",
              "      <td>48248916</td>\n",
              "      <td>新宿Shinjuku-ku 4bedroom豪华公寓， 新大久保駅徒歩２分</td>\n",
              "      <td>43826309</td>\n",
              "      <td>Momo</td>\n",
              "      <td>NaN</td>\n",
              "      <td>Shinjuku Ku</td>\n",
              "      <td>35.70376</td>\n",
              "      <td>139.70007</td>\n",
              "      <td>Entire home/apt</td>\n",
              "      <td>28000</td>\n",
              "      <td>1</td>\n",
              "      <td>0</td>\n",
              "      <td>NaN</td>\n",
              "      <td>NaN</td>\n",
              "      <td>22</td>\n",
              "      <td>178</td>\n",
              "    </tr>\n",
              "    <tr>\n",
              "      <th>11306</th>\n",
              "      <td>48258253</td>\n",
              "      <td>Near to Sensoji  Temple.Japanese traditional h...</td>\n",
              "      <td>34415001</td>\n",
              "      <td>Cheng</td>\n",
              "      <td>NaN</td>\n",
              "      <td>Taito Ku</td>\n",
              "      <td>35.71585</td>\n",
              "      <td>139.79975</td>\n",
              "      <td>Entire home/apt</td>\n",
              "      <td>20000</td>\n",
              "      <td>3</td>\n",
              "      <td>0</td>\n",
              "      <td>NaN</td>\n",
              "      <td>NaN</td>\n",
              "      <td>5</td>\n",
              "      <td>132</td>\n",
              "    </tr>\n",
              "    <tr>\n",
              "      <th>11307</th>\n",
              "      <td>48260803</td>\n",
              "      <td>STUDIO APARTMENT in GREAT LOCATION / SHINJUKU</td>\n",
              "      <td>165921683</td>\n",
              "      <td>Tokyo</td>\n",
              "      <td>NaN</td>\n",
              "      <td>Shinjuku Ku</td>\n",
              "      <td>35.69769</td>\n",
              "      <td>139.70470</td>\n",
              "      <td>Entire home/apt</td>\n",
              "      <td>2271</td>\n",
              "      <td>1</td>\n",
              "      <td>0</td>\n",
              "      <td>NaN</td>\n",
              "      <td>NaN</td>\n",
              "      <td>8</td>\n",
              "      <td>0</td>\n",
              "    </tr>\n",
              "  </tbody>\n",
              "</table>\n",
              "</div>"
            ],
            "text/plain": [
              "             id  ... availability_365\n",
              "11303  48245895  ...              292\n",
              "11304  48248681  ...                0\n",
              "11305  48248916  ...              178\n",
              "11306  48258253  ...              132\n",
              "11307  48260803  ...                0\n",
              "\n",
              "[5 rows x 16 columns]"
            ]
          },
          "metadata": {
            "tags": []
          },
          "execution_count": 26
        }
      ]
    },
    {
      "cell_type": "markdown",
      "metadata": {
        "id": "eJSYPlIeO9k3"
      },
      "source": [
        "### **Q1. Quantos atributos (variáveis) e quantas entradas o nosso conjunto de dados possui? Quais os tipos das variáveis?**\n",
        "\n",
        "Vamos prosseguir e identificar a quantidade de entradas que nosso conjunto de dados possui e ver os tipos de cada coluna.\n",
        "\n",
        "Este *dataset* que baixamos é a versão \"resumida\" do Airbnb. Na mesma página que baixamos o arquivo `listings.csv`. Há uma versão mais completa com 35847 entradas e 106 variáveis (`listings.csv.gz`)."
      ]
    },
    {
      "cell_type": "code",
      "metadata": {
        "id": "lxhHpK5zEMrN",
        "colab": {
          "base_uri": "https://localhost:8080/"
        },
        "outputId": "0277fe1a-2e53-4291-c13e-f2550fe23f04"
      },
      "source": [
        "#quantidade de dados do DataFrame\n",
        "print(\"Quantidade colunas:{}\".format(df.shape[1]))\n",
        "print(\"Quantidade de linhas:{}\".format(df.shape[0]))"
      ],
      "execution_count": 27,
      "outputs": [
        {
          "output_type": "stream",
          "text": [
            "Quantidade colunas:16\n",
            "Quantidade de linhas:11308\n"
          ],
          "name": "stdout"
        }
      ]
    },
    {
      "cell_type": "code",
      "metadata": {
        "id": "WiOmRtUnFkTV",
        "colab": {
          "base_uri": "https://localhost:8080/"
        },
        "outputId": "e8ba0ae6-1fa6-4d30-9d6d-1931af138c72"
      },
      "source": [
        "# Mostrar quantidade de itens do DataFraame detalhado\n",
        "df.info()"
      ],
      "execution_count": 28,
      "outputs": [
        {
          "output_type": "stream",
          "text": [
            "<class 'pandas.core.frame.DataFrame'>\n",
            "RangeIndex: 11308 entries, 0 to 11307\n",
            "Data columns (total 16 columns):\n",
            " #   Column                          Non-Null Count  Dtype  \n",
            "---  ------                          --------------  -----  \n",
            " 0   id                              11308 non-null  int64  \n",
            " 1   name                            11308 non-null  object \n",
            " 2   host_id                         11308 non-null  int64  \n",
            " 3   host_name                       11290 non-null  object \n",
            " 4   neighbourhood_group             0 non-null      float64\n",
            " 5   neighbourhood                   11308 non-null  object \n",
            " 6   latitude                        11308 non-null  float64\n",
            " 7   longitude                       11308 non-null  float64\n",
            " 8   room_type                       11308 non-null  object \n",
            " 9   price                           11308 non-null  int64  \n",
            " 10  minimum_nights                  11308 non-null  int64  \n",
            " 11  number_of_reviews               11308 non-null  int64  \n",
            " 12  last_review                     9201 non-null   object \n",
            " 13  reviews_per_month               9201 non-null   float64\n",
            " 14  calculated_host_listings_count  11308 non-null  int64  \n",
            " 15  availability_365                11308 non-null  int64  \n",
            "dtypes: float64(4), int64(7), object(5)\n",
            "memory usage: 1.4+ MB\n"
          ],
          "name": "stdout"
        }
      ]
    },
    {
      "cell_type": "markdown",
      "metadata": {
        "id": "8qThqc6GKNwP"
      },
      "source": [
        "### **Q2. Qual a porcentagem de valores ausentes no *dataset*?**\n",
        "\n",
        "A qualidade de um *dataset* está diretamente relacionada à quantidade de valores ausentes. É importante entender logo no início se esses valores nulos são significativos comparados ao total de entradas.\n",
        "\n",
        "* É possível ver que a coluna `neighbourhood_group` possui 100% dos seus valores faltantes. \n",
        "* As variáveis `reviews_per_month` e `last_review` possuem aproximadamente 18% dos valores nulos.\n",
        "* As variáveis `name` e `host_name` têm aproximadamente 0,1% dos valores nulos."
      ]
    },
    {
      "cell_type": "code",
      "metadata": {
        "id": "TB4S0ZHBHHUV",
        "colab": {
          "base_uri": "https://localhost:8080/"
        },
        "outputId": "5ef2e267-8fd6-4a64-91f4-516a6fec3f22"
      },
      "source": [
        "#Ordenar em ordem decrescente\n",
        "df.isnull().sum().sort_values(ascending=False)"
      ],
      "execution_count": 29,
      "outputs": [
        {
          "output_type": "execute_result",
          "data": {
            "text/plain": [
              "neighbourhood_group               11308\n",
              "reviews_per_month                  2107\n",
              "last_review                        2107\n",
              "host_name                            18\n",
              "availability_365                      0\n",
              "calculated_host_listings_count        0\n",
              "number_of_reviews                     0\n",
              "minimum_nights                        0\n",
              "price                                 0\n",
              "room_type                             0\n",
              "longitude                             0\n",
              "latitude                              0\n",
              "neighbourhood                         0\n",
              "host_id                               0\n",
              "name                                  0\n",
              "id                                    0\n",
              "dtype: int64"
            ]
          },
          "metadata": {
            "tags": []
          },
          "execution_count": 29
        }
      ]
    },
    {
      "cell_type": "code",
      "metadata": {
        "id": "Oox7-_fwIz6d",
        "colab": {
          "base_uri": "https://localhost:8080/"
        },
        "outputId": "507bf920-fcd1-4b72-8eca-0978aa5e3186"
      },
      "source": [
        "#Ordenar em ordem decrescente em porcentagem\n",
        "(df.isnull().sum() / df.shape[0]).sort_values(ascending=False)"
      ],
      "execution_count": 30,
      "outputs": [
        {
          "output_type": "execute_result",
          "data": {
            "text/plain": [
              "neighbourhood_group               1.000000\n",
              "reviews_per_month                 0.186328\n",
              "last_review                       0.186328\n",
              "host_name                         0.001592\n",
              "availability_365                  0.000000\n",
              "calculated_host_listings_count    0.000000\n",
              "number_of_reviews                 0.000000\n",
              "minimum_nights                    0.000000\n",
              "price                             0.000000\n",
              "room_type                         0.000000\n",
              "longitude                         0.000000\n",
              "latitude                          0.000000\n",
              "neighbourhood                     0.000000\n",
              "host_id                           0.000000\n",
              "name                              0.000000\n",
              "id                                0.000000\n",
              "dtype: float64"
            ]
          },
          "metadata": {
            "tags": []
          },
          "execution_count": 30
        }
      ]
    },
    {
      "cell_type": "markdown",
      "metadata": {
        "id": "HkjD7YPkWHn0"
      },
      "source": [
        "### **Q3. Qual o tipo de distribuição das variáveis?** \n",
        "\n",
        "Para identificar a distribuição das variáveis, irei plotar o histograma."
      ]
    },
    {
      "cell_type": "code",
      "metadata": {
        "id": "6ClaYbz6J4wU",
        "colab": {
          "base_uri": "https://localhost:8080/",
          "height": 621
        },
        "outputId": "701940c4-426d-4705-f96c-4c5bac36705f"
      },
      "source": [
        "#plotar histograma das variáveis númericas\n",
        "df[[\"availability_365\", \"calculated_host_listings_count\", \"number_of_reviews\", \"minimum_nights\", \"price\"]].hist(bins=15, figsize=(15, 10));"
      ],
      "execution_count": 31,
      "outputs": [
        {
          "output_type": "display_data",
          "data": {
            "image/png": "[encoded data removed]",
            "text/plain": [
              "<Figure size 1080x720 with 6 Axes>"
            ]
          },
          "metadata": {
            "tags": [],
            "needs_background": "light"
          }
        }
      ]
    },
    {
      "cell_type": "markdown",
      "metadata": {
        "id": "ONdyWtnnWYnY"
      },
      "source": [
        "### **Q4. Há *outliers* presentes?**"
      ]
    },
    {
      "cell_type": "markdown",
      "metadata": {
        "id": "g3lA2Gn6NoCO"
      },
      "source": [
        "Pela distribuição do histograma, é possível verificar indícios da presença de *outliers*. Olhe por exemplo as variáveis `price`, `minimum_nights` e `calculated_host_listings_count`.\n",
        "\n",
        "Os valores não seguem uma distruição, e distorcem toda a representação gráfica. Para confirmar, há duas maneiras rápidas que auxiliam a detecção de *outliers*. São elas:\n",
        "\n",
        "* Resumo estatístico por meio do método `describe()`\n",
        "* Plotar `boxplots` para a variável."
      ]
    },
    {
      "cell_type": "code",
      "metadata": {
        "id": "7zq4h3g4NR4O",
        "colab": {
          "base_uri": "https://localhost:8080/",
          "height": 297
        },
        "outputId": "a36e897a-1cc8-4913-9d12-f8a73c2f41a2"
      },
      "source": [
        "# Resumo estatistico numéricos\n",
        "df[[\"availability_365\", \"calculated_host_listings_count\", \"number_of_reviews\", \"minimum_nights\", \"price\"]].describe()"
      ],
      "execution_count": 32,
      "outputs": [
        {
          "output_type": "execute_result",
          "data": {
            "text/html": [
              "<div>\n",
              "<style scoped>\n",
              "    .dataframe tbody tr th:only-of-type {\n",
              "        vertical-align: middle;\n",
              "    }\n",
              "\n",
              "    .dataframe tbody tr th {\n",
              "        vertical-align: top;\n",
              "    }\n",
              "\n",
              "    .dataframe thead th {\n",
              "        text-align: right;\n",
              "    }\n",
              "</style>\n",
              "<table border=\"1\" class=\"dataframe\">\n",
              "  <thead>\n",
              "    <tr style=\"text-align: right;\">\n",
              "      <th></th>\n",
              "      <th>availability_365</th>\n",
              "      <th>calculated_host_listings_count</th>\n",
              "      <th>number_of_reviews</th>\n",
              "      <th>minimum_nights</th>\n",
              "      <th>price</th>\n",
              "    </tr>\n",
              "  </thead>\n",
              "  <tbody>\n",
              "    <tr>\n",
              "      <th>count</th>\n",
              "      <td>11308.000000</td>\n",
              "      <td>11308.000000</td>\n",
              "      <td>11308.000000</td>\n",
              "      <td>11308.000000</td>\n",
              "      <td>11308.000000</td>\n",
              "    </tr>\n",
              "    <tr>\n",
              "      <th>mean</th>\n",
              "      <td>144.371418</td>\n",
              "      <td>12.509904</td>\n",
              "      <td>26.297489</td>\n",
              "      <td>3.683764</td>\n",
              "      <td>12087.621330</td>\n",
              "    </tr>\n",
              "    <tr>\n",
              "      <th>std</th>\n",
              "      <td>115.652836</td>\n",
              "      <td>14.518241</td>\n",
              "      <td>41.276481</td>\n",
              "      <td>17.711242</td>\n",
              "      <td>34894.056148</td>\n",
              "    </tr>\n",
              "    <tr>\n",
              "      <th>min</th>\n",
              "      <td>0.000000</td>\n",
              "      <td>1.000000</td>\n",
              "      <td>0.000000</td>\n",
              "      <td>1.000000</td>\n",
              "      <td>0.000000</td>\n",
              "    </tr>\n",
              "    <tr>\n",
              "      <th>25%</th>\n",
              "      <td>56.000000</td>\n",
              "      <td>3.000000</td>\n",
              "      <td>1.000000</td>\n",
              "      <td>1.000000</td>\n",
              "      <td>4000.000000</td>\n",
              "    </tr>\n",
              "    <tr>\n",
              "      <th>50%</th>\n",
              "      <td>117.000000</td>\n",
              "      <td>7.000000</td>\n",
              "      <td>10.000000</td>\n",
              "      <td>1.000000</td>\n",
              "      <td>6714.000000</td>\n",
              "    </tr>\n",
              "    <tr>\n",
              "      <th>75%</th>\n",
              "      <td>220.000000</td>\n",
              "      <td>16.000000</td>\n",
              "      <td>34.000000</td>\n",
              "      <td>2.000000</td>\n",
              "      <td>12000.000000</td>\n",
              "    </tr>\n",
              "    <tr>\n",
              "      <th>max</th>\n",
              "      <td>365.000000</td>\n",
              "      <td>98.000000</td>\n",
              "      <td>488.000000</td>\n",
              "      <td>300.000000</td>\n",
              "      <td>1000000.000000</td>\n",
              "    </tr>\n",
              "  </tbody>\n",
              "</table>\n",
              "</div>"
            ],
            "text/plain": [
              "       availability_365  ...           price\n",
              "count      11308.000000  ...    11308.000000\n",
              "mean         144.371418  ...    12087.621330\n",
              "std          115.652836  ...    34894.056148\n",
              "min            0.000000  ...        0.000000\n",
              "25%           56.000000  ...     4000.000000\n",
              "50%          117.000000  ...     6714.000000\n",
              "75%          220.000000  ...    12000.000000\n",
              "max          365.000000  ...  1000000.000000\n",
              "\n",
              "[8 rows x 5 columns]"
            ]
          },
          "metadata": {
            "tags": []
          },
          "execution_count": 32
        }
      ]
    },
    {
      "cell_type": "markdown",
      "metadata": {
        "id": "9-H1w15sWzmD"
      },
      "source": [
        "Olhando o resumo estatístico acima, podemos confirmar algumas hipóteses como:\n",
        "\n",
        "* A variável `price` possui 75% do valor abaixo de 6714, porém seu valor máximo é 1000000.\n",
        "* A quantidade mínima de noites (`minimum_nights`) está acima de 365 dias no ano.\n",
        "\n",
        "#### Boxplot para price\n"
      ]
    },
    {
      "cell_type": "code",
      "metadata": {
        "id": "zHDAT1HfRpHx",
        "colab": {
          "base_uri": "https://localhost:8080/",
          "height": 303
        },
        "outputId": "7a72095e-da43-4156-8501-7480111d63ad"
      },
      "source": [
        "#plotar Boxplot price (outlier)\n",
        "df[\"price\"].plot(kind='box', vert=False, figsize=(15, 3));\n",
        "plt.show()\n",
        "#formula para cáclulo de outlier > 210 mil\n",
        "q3_soma_iiq_price = df['price'].quantile(.75) + 1.5*(df['price'].quantile(.75) - df['price'].quantile(.25))\n",
        "print(\"\\nCálculo de outliers para price\")\n",
        "print(\"Limite superior: {}\".format(q3_soma_iiq_price))\n",
        "print(\"{} entradas\".format(len(df[df.price > q3_soma_iiq_price])))\n",
        "print(\"{:.4f}%\".format((len(df[df.price > q3_soma_iiq_price]) / df.shape[0])*100))"
      ],
      "execution_count": 33,
      "outputs": [
        {
          "output_type": "display_data",
          "data": {
            "image/png": "[encoded data removed]",
            "text/plain": [
              "<Figure size 1080x216 with 1 Axes>"
            ]
          },
          "metadata": {
            "tags": [],
            "needs_background": "light"
          }
        },
        {
          "output_type": "stream",
          "text": [
            "\n",
            "Cálculo de outliers para price\n",
            "Limite superior: 24000.0\n",
            "923 entradas\n",
            "8.1624%\n"
          ],
          "name": "stdout"
        }
      ]
    },
    {
      "cell_type": "markdown",
      "metadata": {
        "id": "IsRJQLNNbaUa"
      },
      "source": [
        "#### Boxplot para availability_365"
      ]
    },
    {
      "cell_type": "code",
      "metadata": {
        "id": "rYRRLkSqOTEX",
        "colab": {
          "base_uri": "https://localhost:8080/",
          "height": 194
        },
        "outputId": "87063133-4477-4068-cc99-28e56ad4be48"
      },
      "source": [
        "#plotar Boxplot availability_365\n",
        "df['availability_365'].plot(kind='box', vert=False, figsize=(15, 3));\n",
        "plt.show()"
      ],
      "execution_count": 34,
      "outputs": [
        {
          "output_type": "display_data",
          "data": {
            "image/png": "[encoded data removed]",
            "text/plain": [
              "<Figure size 1080x216 with 1 Axes>"
            ]
          },
          "metadata": {
            "tags": [],
            "needs_background": "light"
          }
        }
      ]
    },
    {
      "cell_type": "markdown",
      "metadata": {
        "id": "LdYcOHsubmrA"
      },
      "source": [
        "#### Boxplot para minimum_nights"
      ]
    },
    {
      "cell_type": "code",
      "metadata": {
        "id": "bYnldGXoT7DT",
        "colab": {
          "base_uri": "https://localhost:8080/",
          "height": 211
        },
        "outputId": "289f5d57-e5d2-47ad-eeb3-529ed90395ef"
      },
      "source": [
        "#plotar Boxplot minimum_nights (outlier > 40)\n",
        "df[\"minimum_nights\"].plot(kind='box', vert=False, figsize=(15, 3));\n",
        "plt.show()"
      ],
      "execution_count": 35,
      "outputs": [
        {
          "output_type": "display_data",
          "data": {
            "image/png": "[encoded data removed]",
            "text/plain": [
              "<Figure size 1080x216 with 1 Axes>"
            ]
          },
          "metadata": {
            "tags": [],
            "needs_background": "light"
          }
        }
      ]
    },
    {
      "cell_type": "markdown",
      "metadata": {
        "id": "OFosv6rrbvdG"
      },
      "source": [
        "#### Boxplot para number_of_reviews"
      ]
    },
    {
      "cell_type": "code",
      "metadata": {
        "id": "hX1TTql6ULFU",
        "colab": {
          "base_uri": "https://localhost:8080/",
          "height": 191
        },
        "outputId": "7b373309-e15e-4768-e9c5-5e04687b7164"
      },
      "source": [
        "#plotar Boxplot number_of_reviews (oulier >280)\n",
        "df[\"number_of_reviews\"].plot(kind='box', vert=False, figsize=(15, 3));\n",
        "plt.show()"
      ],
      "execution_count": 36,
      "outputs": [
        {
          "output_type": "display_data",
          "data": {
            "image/png": "[encoded data removed]",
            "text/plain": [
              "<Figure size 1080x216 with 1 Axes>"
            ]
          },
          "metadata": {
            "tags": [],
            "needs_background": "light"
          }
        }
      ]
    },
    {
      "cell_type": "markdown",
      "metadata": {
        "id": "PgWbKTd7b5PF"
      },
      "source": [
        "#### Boxplot para calculated_host_listings_count"
      ]
    },
    {
      "cell_type": "code",
      "metadata": {
        "id": "xKgIMzgoUWrq",
        "colab": {
          "base_uri": "https://localhost:8080/",
          "height": 182
        },
        "outputId": "a16a4e8a-8a97-45ab-be6c-a5c75ea36e2d"
      },
      "source": [
        "#plotar Boxplot calculated_host_listings_count\n",
        "df[\"calculated_host_listings_count\"].plot(kind='box', vert=False, figsize=(15, 3));\n",
        "plt.show()"
      ],
      "execution_count": 37,
      "outputs": [
        {
          "output_type": "display_data",
          "data": {
            "image/png": "[encoded data removed]",
            "text/plain": [
              "<Figure size 1080x216 with 1 Axes>"
            ]
          },
          "metadata": {
            "tags": [],
            "needs_background": "light"
          }
        }
      ]
    },
    {
      "cell_type": "markdown",
      "metadata": {
        "id": "P3NbeS91dAOH"
      },
      "source": [
        "#### Otimização do DataFrame\n",
        "\n",
        "Após a identificação dos outlier no DataFrame original, faremos uma cópia e otimização deste nova DataFrame criado para que a análise possa continuar."
      ]
    },
    {
      "cell_type": "code",
      "metadata": {
        "id": "xZL79EOcdEhW"
      },
      "source": [
        "#criar novo DataFrame\n",
        "df_clean = df.copy()\n",
        "df_clean.drop(df_clean[df_clean[\"price\"] > 240000].index, axis=0, inplace=True)\n",
        "df_clean.drop(df_clean[df_clean[\"number_of_reviews\"] > 280].index, axis=0, inplace=True)\n",
        "df_clean.drop(df_clean[df_clean[\"minimum_nights\"] > 40].index, axis=0, inplace=True)\n",
        "# remover valores = 0\n",
        "df_clean.drop(df_clean[df_clean[\"price\"] == 0].index, axis=0, inplace=True)\n",
        "df_clean.drop(df_clean[df_clean[\"availability_365\"] == 0].index, axis=0, inplace=True)"
      ],
      "execution_count": 38,
      "outputs": []
    },
    {
      "cell_type": "code",
      "metadata": {
        "id": "Csnwc9GRg8Ws",
        "colab": {
          "base_uri": "https://localhost:8080/",
          "height": 297
        },
        "outputId": "1bcdc405-123f-430c-e552-235a7b19ae5c"
      },
      "source": [
        "# Resumo estatiscio sem oulier\n",
        "df_clean[[\"availability_365\", \"calculated_host_listings_count\", \"number_of_reviews\", \"minimum_nights\", \"price\"]].describe()"
      ],
      "execution_count": 39,
      "outputs": [
        {
          "output_type": "execute_result",
          "data": {
            "text/html": [
              "<div>\n",
              "<style scoped>\n",
              "    .dataframe tbody tr th:only-of-type {\n",
              "        vertical-align: middle;\n",
              "    }\n",
              "\n",
              "    .dataframe tbody tr th {\n",
              "        vertical-align: top;\n",
              "    }\n",
              "\n",
              "    .dataframe thead th {\n",
              "        text-align: right;\n",
              "    }\n",
              "</style>\n",
              "<table border=\"1\" class=\"dataframe\">\n",
              "  <thead>\n",
              "    <tr style=\"text-align: right;\">\n",
              "      <th></th>\n",
              "      <th>availability_365</th>\n",
              "      <th>calculated_host_listings_count</th>\n",
              "      <th>number_of_reviews</th>\n",
              "      <th>minimum_nights</th>\n",
              "      <th>price</th>\n",
              "    </tr>\n",
              "  </thead>\n",
              "  <tbody>\n",
              "    <tr>\n",
              "      <th>count</th>\n",
              "      <td>9962.000000</td>\n",
              "      <td>9962.000000</td>\n",
              "      <td>9962.000000</td>\n",
              "      <td>9962.000000</td>\n",
              "      <td>9962.000000</td>\n",
              "    </tr>\n",
              "    <tr>\n",
              "      <th>mean</th>\n",
              "      <td>161.843305</td>\n",
              "      <td>12.745633</td>\n",
              "      <td>25.936459</td>\n",
              "      <td>2.666834</td>\n",
              "      <td>10662.458041</td>\n",
              "    </tr>\n",
              "    <tr>\n",
              "      <th>std</th>\n",
              "      <td>109.553687</td>\n",
              "      <td>14.828611</td>\n",
              "      <td>39.566843</td>\n",
              "      <td>5.335743</td>\n",
              "      <td>14954.735119</td>\n",
              "    </tr>\n",
              "    <tr>\n",
              "      <th>min</th>\n",
              "      <td>1.000000</td>\n",
              "      <td>1.000000</td>\n",
              "      <td>0.000000</td>\n",
              "      <td>1.000000</td>\n",
              "      <td>820.000000</td>\n",
              "    </tr>\n",
              "    <tr>\n",
              "      <th>25%</th>\n",
              "      <td>80.000000</td>\n",
              "      <td>3.000000</td>\n",
              "      <td>1.000000</td>\n",
              "      <td>1.000000</td>\n",
              "      <td>4000.000000</td>\n",
              "    </tr>\n",
              "    <tr>\n",
              "      <th>50%</th>\n",
              "      <td>143.000000</td>\n",
              "      <td>8.000000</td>\n",
              "      <td>10.000000</td>\n",
              "      <td>1.000000</td>\n",
              "      <td>6500.000000</td>\n",
              "    </tr>\n",
              "    <tr>\n",
              "      <th>75%</th>\n",
              "      <td>248.000000</td>\n",
              "      <td>17.000000</td>\n",
              "      <td>34.000000</td>\n",
              "      <td>2.000000</td>\n",
              "      <td>11800.000000</td>\n",
              "    </tr>\n",
              "    <tr>\n",
              "      <th>max</th>\n",
              "      <td>365.000000</td>\n",
              "      <td>98.000000</td>\n",
              "      <td>273.000000</td>\n",
              "      <td>40.000000</td>\n",
              "      <td>230000.000000</td>\n",
              "    </tr>\n",
              "  </tbody>\n",
              "</table>\n",
              "</div>"
            ],
            "text/plain": [
              "       availability_365  ...          price\n",
              "count       9962.000000  ...    9962.000000\n",
              "mean         161.843305  ...   10662.458041\n",
              "std          109.553687  ...   14954.735119\n",
              "min            1.000000  ...     820.000000\n",
              "25%           80.000000  ...    4000.000000\n",
              "50%          143.000000  ...    6500.000000\n",
              "75%          248.000000  ...   11800.000000\n",
              "max          365.000000  ...  230000.000000\n",
              "\n",
              "[8 rows x 5 columns]"
            ]
          },
          "metadata": {
            "tags": []
          },
          "execution_count": 39
        }
      ]
    },
    {
      "cell_type": "markdown",
      "metadata": {
        "id": "_ZXFD9zZd7i4"
      },
      "source": [
        "#### Histogramas sem *outliers*\n",
        "\n",
        "Já que identificamos *outliers* nas variáveis `price`, `number_of_reviews` e `minimum_nights`, vamos agora limpar o *DataFrame* delas e plotar novamente o histograma."
      ]
    },
    {
      "cell_type": "code",
      "metadata": {
        "id": "jpgY0YBAhh6y",
        "colab": {
          "base_uri": "https://localhost:8080/",
          "height": 590
        },
        "outputId": "08b9bb26-951c-417d-8d09-6e6f4e52b12c"
      },
      "source": [
        "#histograma DataFrame Df_Clean\n",
        "df_clean[[\"availability_365\", \"calculated_host_listings_count\", \"number_of_reviews\", \"minimum_nights\", \"price\"]].hist(bins=15, figsize=(15, 10));"
      ],
      "execution_count": 40,
      "outputs": [
        {
          "output_type": "display_data",
          "data": {
            "image/png": "[encoded data removed]",
            "text/plain": [
              "<Figure size 1080x720 with 6 Axes>"
            ]
          },
          "metadata": {
            "tags": [],
            "needs_background": "light"
          }
        }
      ]
    },
    {
      "cell_type": "markdown",
      "metadata": {
        "id": "2sUkqS2deygc"
      },
      "source": [
        "### **Q4. Qual a correlação existente entre as variáveis**\n",
        "\n",
        "Correlação significa que existe uma relação entre duas coisas. No nosso contexto, estamos buscando relação ou semelhança entre duas variáveis.\n",
        "\n",
        "Essa relação pode ser medida, e é função do coeficiente de correlação estabelecer qual a intensidade dela. Para identificar as correlações existentes entre as variáveis de interesse, vou:\n",
        "\n",
        "* Criar uma matriz de correlação\n",
        "* Gerar um *heatmap* a partir dessa matriz, usando a biblioteca `seaborn`"
      ]
    },
    {
      "cell_type": "code",
      "metadata": {
        "id": "FNHKjZE0iMcC",
        "colab": {
          "base_uri": "https://localhost:8080/",
          "height": 224
        },
        "outputId": "b5da7fe4-9e72-4152-9520-7f2fdcebfef4"
      },
      "source": [
        "# Matriz de correlação entre variáveis\n",
        "corr = df_clean[[\"availability_365\", \"calculated_host_listings_count\", \"number_of_reviews\", \"minimum_nights\", \"price\"]].corr()\n",
        "display(corr)"
      ],
      "execution_count": 55,
      "outputs": [
        {
          "output_type": "display_data",
          "data": {
            "text/html": [
              "<div>\n",
              "<style scoped>\n",
              "    .dataframe tbody tr th:only-of-type {\n",
              "        vertical-align: middle;\n",
              "    }\n",
              "\n",
              "    .dataframe tbody tr th {\n",
              "        vertical-align: top;\n",
              "    }\n",
              "\n",
              "    .dataframe thead th {\n",
              "        text-align: right;\n",
              "    }\n",
              "</style>\n",
              "<table border=\"1\" class=\"dataframe\">\n",
              "  <thead>\n",
              "    <tr style=\"text-align: right;\">\n",
              "      <th></th>\n",
              "      <th>availability_365</th>\n",
              "      <th>calculated_host_listings_count</th>\n",
              "      <th>number_of_reviews</th>\n",
              "      <th>minimum_nights</th>\n",
              "      <th>price</th>\n",
              "    </tr>\n",
              "  </thead>\n",
              "  <tbody>\n",
              "    <tr>\n",
              "      <th>availability_365</th>\n",
              "      <td>1.000000</td>\n",
              "      <td>0.090002</td>\n",
              "      <td>0.020568</td>\n",
              "      <td>-0.011306</td>\n",
              "      <td>0.029465</td>\n",
              "    </tr>\n",
              "    <tr>\n",
              "      <th>calculated_host_listings_count</th>\n",
              "      <td>0.090002</td>\n",
              "      <td>1.000000</td>\n",
              "      <td>-0.163434</td>\n",
              "      <td>-0.034068</td>\n",
              "      <td>-0.096387</td>\n",
              "    </tr>\n",
              "    <tr>\n",
              "      <th>number_of_reviews</th>\n",
              "      <td>0.020568</td>\n",
              "      <td>-0.163434</td>\n",
              "      <td>1.000000</td>\n",
              "      <td>-0.052790</td>\n",
              "      <td>-0.016907</td>\n",
              "    </tr>\n",
              "    <tr>\n",
              "      <th>minimum_nights</th>\n",
              "      <td>-0.011306</td>\n",
              "      <td>-0.034068</td>\n",
              "      <td>-0.052790</td>\n",
              "      <td>1.000000</td>\n",
              "      <td>-0.023263</td>\n",
              "    </tr>\n",
              "    <tr>\n",
              "      <th>price</th>\n",
              "      <td>0.029465</td>\n",
              "      <td>-0.096387</td>\n",
              "      <td>-0.016907</td>\n",
              "      <td>-0.023263</td>\n",
              "      <td>1.000000</td>\n",
              "    </tr>\n",
              "  </tbody>\n",
              "</table>\n",
              "</div>"
            ],
            "text/plain": [
              "                                availability_365  ...     price\n",
              "availability_365                        1.000000  ...  0.029465\n",
              "calculated_host_listings_count          0.090002  ... -0.096387\n",
              "number_of_reviews                       0.020568  ... -0.016907\n",
              "minimum_nights                         -0.011306  ... -0.023263\n",
              "price                                   0.029465  ...  1.000000\n",
              "\n",
              "[5 rows x 5 columns]"
            ]
          },
          "metadata": {
            "tags": []
          }
        }
      ]
    },
    {
      "cell_type": "code",
      "metadata": {
        "id": "gz6v63Uhi-fS",
        "colab": {
          "base_uri": "https://localhost:8080/",
          "height": 411
        },
        "outputId": "d6efb1b7-b4a9-4e84-eba7-f75ad70aa770"
      },
      "source": [
        "sns.heatmap(corr, cmap='RdBu', fmt='.2f', square=True, linecolor='white', annot=True);"
      ],
      "execution_count": 42,
      "outputs": [
        {
          "output_type": "display_data",
          "data": {
            "image/png": "[encoded data removed]",
            "text/plain": [
              "<Figure size 432x288 with 2 Axes>"
            ]
          },
          "metadata": {
            "tags": [],
            "needs_background": "light"
          }
        }
      ]
    },
    {
      "cell_type": "markdown",
      "metadata": {
        "id": "g0Dq_oMkfMhB"
      },
      "source": [
        "### **Q5. Qual o tipo de imóvel mais alugado no Airbnb?**\n",
        "\n",
        "A coluna da variável `room_type` indica o tipo de locação que está anunciada no Airbnb. Se você já alugou no site, sabe que existem opções de apartamentos/casas inteiras, apenas o aluguel de um quarto ou mesmo dividir o quarto com outras pessoas.\n",
        "\n",
        "Vamos contar a quantidade de ocorrências de cada tipo de aluguel, usando o método `value_counts()`."
      ]
    },
    {
      "cell_type": "code",
      "metadata": {
        "id": "RkICoUHCjkHg",
        "colab": {
          "base_uri": "https://localhost:8080/"
        },
        "outputId": "70ce00b6-1ea9-4ed1-9e5b-6259d91a5aee"
      },
      "source": [
        "# Quantidade de imóveis\n",
        "df_clean[\"room_type\"].value_counts().sort_values(ascending=False)"
      ],
      "execution_count": 56,
      "outputs": [
        {
          "output_type": "execute_result",
          "data": {
            "text/plain": [
              "Entire home/apt    7079\n",
              "Private room       2157\n",
              "Hotel room          392\n",
              "Shared room         334\n",
              "Name: room_type, dtype: int64"
            ]
          },
          "metadata": {
            "tags": []
          },
          "execution_count": 56
        }
      ]
    },
    {
      "cell_type": "code",
      "metadata": {
        "id": "jDKU4LwlkYtH",
        "colab": {
          "base_uri": "https://localhost:8080/"
        },
        "outputId": "51c6cbc4-7f20-4dc8-88c2-1f0a28ebf028"
      },
      "source": [
        "#Porcentagem de tipo de Imóveis\n",
        "(df_clean[\"room_type\"].value_counts() / df_clean.shape[0]).sort_values(ascending=False)"
      ],
      "execution_count": 57,
      "outputs": [
        {
          "output_type": "execute_result",
          "data": {
            "text/plain": [
              "Entire home/apt    0.710600\n",
              "Private room       0.216523\n",
              "Hotel room         0.039350\n",
              "Shared room        0.033527\n",
              "Name: room_type, dtype: float64"
            ]
          },
          "metadata": {
            "tags": []
          },
          "execution_count": 57
        }
      ]
    },
    {
      "cell_type": "code",
      "metadata": {
        "id": "B-RM75aMlh3S",
        "colab": {
          "base_uri": "https://localhost:8080/"
        },
        "outputId": "bb8ab2dc-2cf0-4394-970b-0ada4009cb0a"
      },
      "source": [
        "df_clean.neighbourhood.unique()"
      ],
      "execution_count": 45,
      "outputs": [
        {
          "output_type": "execute_result",
          "data": {
            "text/plain": [
              "array(['Sumida Ku', 'Kita Ku', 'Setagaya Ku', 'Adachi Ku', 'Shinjuku Ku',\n",
              "       'Shibuya Ku', 'Meguro Ku', 'Toshima Ku', 'Koto Ku', 'Shinagawa Ku',\n",
              "       'Minato Ku', 'Suginami Ku', 'Akishima Shi', 'Bunkyo Ku',\n",
              "       'Taito Ku', 'Itabashi Ku', 'Arakawa Ku', 'Machida Shi',\n",
              "       'Higashimurayama Shi', 'Chuo Ku', 'Nerima Ku', 'Kokubunji Shi',\n",
              "       'Hino Shi', 'Mitaka Shi', 'Nakano Ku', 'Hachioji Shi',\n",
              "       'Katsushika Ku', 'Edogawa Ku', 'Musashino Shi', 'Koganei Shi',\n",
              "       'Ota Ku', 'Akiruno Shi', 'Chiyoda Ku', 'Fuchu Shi', 'Fussa Shi',\n",
              "       'Komae Shi', 'Chofu Shi', 'Tama Shi', 'Nishitokyo Shi',\n",
              "       'Hinohara Mura', 'Ome Shi', 'Kunitachi Shi', 'Kodaira Shi',\n",
              "       'Okutama Machi', 'Hamura Shi', 'Tachikawa Shi',\n",
              "       'Musashimurayama Shi', 'Inagi Shi'], dtype=object)"
            ]
          },
          "metadata": {
            "tags": []
          },
          "execution_count": 45
        }
      ]
    },
    {
      "cell_type": "code",
      "metadata": {
        "id": "SLrxuRBal8kq",
        "colab": {
          "base_uri": "https://localhost:8080/"
        },
        "outputId": "b79d2cba-7031-4d96-b1ea-154a0983763e"
      },
      "source": [
        "#Quantidade de imóveis por localização\n",
        "df_clean.neighbourhood.value_counts()"
      ],
      "execution_count": 46,
      "outputs": [
        {
          "output_type": "execute_result",
          "data": {
            "text/plain": [
              "Shinjuku Ku            1950\n",
              "Taito Ku               1465\n",
              "Sumida Ku               972\n",
              "Toshima Ku              886\n",
              "Shibuya Ku              596\n",
              "Minato Ku               434\n",
              "Ota Ku                  420\n",
              "Chuo Ku                 390\n",
              "Nakano Ku               280\n",
              "Katsushika Ku           277\n",
              "Setagaya Ku             246\n",
              "Kita Ku                 244\n",
              "Arakawa Ku              232\n",
              "Suginami Ku             209\n",
              "Shinagawa Ku            200\n",
              "Koto Ku                 174\n",
              "Itabashi Ku             158\n",
              "Edogawa Ku              153\n",
              "Chiyoda Ku              149\n",
              "Bunkyo Ku               125\n",
              "Adachi Ku               107\n",
              "Nerima Ku                61\n",
              "Meguro Ku                47\n",
              "Hachioji Shi             26\n",
              "Hino Shi                 17\n",
              "Machida Shi              16\n",
              "Nishitokyo Shi           13\n",
              "Tama Shi                 10\n",
              "Akiruno Shi              10\n",
              "Kokubunji Shi             9\n",
              "Chofu Shi                 9\n",
              "Musashino Shi             8\n",
              "Higashimurayama Shi       8\n",
              "Mitaka Shi                8\n",
              "Kunitachi Shi             7\n",
              "Kodaira Shi               6\n",
              "Tachikawa Shi             5\n",
              "Hinohara Mura             5\n",
              "Fuchu Shi                 5\n",
              "Komae Shi                 4\n",
              "Ome Shi                   4\n",
              "Hamura Shi                3\n",
              "Koganei Shi               3\n",
              "Musashimurayama Shi       3\n",
              "Okutama Machi             3\n",
              "Akishima Shi              2\n",
              "Fussa Shi                 2\n",
              "Inagi Shi                 1\n",
              "Name: neighbourhood, dtype: int64"
            ]
          },
          "metadata": {
            "tags": []
          },
          "execution_count": 46
        }
      ]
    },
    {
      "cell_type": "code",
      "metadata": {
        "id": "7h53U993mUJj",
        "colab": {
          "base_uri": "https://localhost:8080/"
        },
        "outputId": "f7230443-3d88-4873-f2bf-51f84a16ea9f"
      },
      "source": [
        "#Quantidade de imóveis por localização (Porcentagem)\n",
        "(df_clean.neighbourhood.value_counts() / df_clean.shape[0]).sort_values(ascending=False)"
      ],
      "execution_count": 47,
      "outputs": [
        {
          "output_type": "execute_result",
          "data": {
            "text/plain": [
              "Shinjuku Ku            0.195744\n",
              "Taito Ku               0.147059\n",
              "Sumida Ku              0.097571\n",
              "Toshima Ku             0.088938\n",
              "Shibuya Ku             0.059827\n",
              "Minato Ku              0.043566\n",
              "Ota Ku                 0.042160\n",
              "Chuo Ku                0.039149\n",
              "Nakano Ku              0.028107\n",
              "Katsushika Ku          0.027806\n",
              "Setagaya Ku            0.024694\n",
              "Kita Ku                0.024493\n",
              "Arakawa Ku             0.023288\n",
              "Suginami Ku            0.020980\n",
              "Shinagawa Ku           0.020076\n",
              "Koto Ku                0.017466\n",
              "Itabashi Ku            0.015860\n",
              "Edogawa Ku             0.015358\n",
              "Chiyoda Ku             0.014957\n",
              "Bunkyo Ku              0.012548\n",
              "Adachi Ku              0.010741\n",
              "Nerima Ku              0.006123\n",
              "Meguro Ku              0.004718\n",
              "Hachioji Shi           0.002610\n",
              "Hino Shi               0.001706\n",
              "Machida Shi            0.001606\n",
              "Nishitokyo Shi         0.001305\n",
              "Tama Shi               0.001004\n",
              "Akiruno Shi            0.001004\n",
              "Kokubunji Shi          0.000903\n",
              "Chofu Shi              0.000903\n",
              "Musashino Shi          0.000803\n",
              "Higashimurayama Shi    0.000803\n",
              "Mitaka Shi             0.000803\n",
              "Kunitachi Shi          0.000703\n",
              "Kodaira Shi            0.000602\n",
              "Tachikawa Shi          0.000502\n",
              "Hinohara Mura          0.000502\n",
              "Fuchu Shi              0.000502\n",
              "Komae Shi              0.000402\n",
              "Ome Shi                0.000402\n",
              "Hamura Shi             0.000301\n",
              "Koganei Shi            0.000301\n",
              "Musashimurayama Shi    0.000301\n",
              "Okutama Machi          0.000301\n",
              "Akishima Shi           0.000201\n",
              "Fussa Shi              0.000201\n",
              "Inagi Shi              0.000100\n",
              "Name: neighbourhood, dtype: float64"
            ]
          },
          "metadata": {
            "tags": []
          },
          "execution_count": 47
        }
      ]
    },
    {
      "cell_type": "markdown",
      "metadata": {
        "id": "9W6Z812efve_"
      },
      "source": [
        "### **Q6. Qual a localidade mais cara de Tokyo?**\n",
        "\n",
        "Uma maneira de se verificar uma variável em função da outra é usando `groupby()`. No caso, queremos comparar os bairros (*neighbourhoods*) a partir do preço de locação."
      ]
    },
    {
      "cell_type": "code",
      "metadata": {
        "id": "Vv7u0Uy5uV15",
        "colab": {
          "base_uri": "https://localhost:8080/"
        },
        "outputId": "f7ae9c82-b029-49fe-b7d0-3468dc5b0350"
      },
      "source": [
        "#localidade mais cara\n",
        "df_clean.groupby([\"neighbourhood\"])[\"price\"].mean().sort_values(ascending=False)[:5]"
      ],
      "execution_count": 58,
      "outputs": [
        {
          "output_type": "execute_result",
          "data": {
            "text/plain": [
              "neighbourhood\n",
              "Hinohara Mura    27471.400000\n",
              "Suginami Ku      20423.880383\n",
              "Okutama Machi    17333.333333\n",
              "Komae Shi        16782.250000\n",
              "Fuchu Shi        16388.600000\n",
              "Name: price, dtype: float64"
            ]
          },
          "metadata": {
            "tags": []
          },
          "execution_count": 58
        }
      ]
    },
    {
      "cell_type": "markdown",
      "metadata": {
        "id": "q1UTft0XjHBn"
      },
      "source": [
        "Acima, vemos que bairros como Hinohara Mura, Suginami Ku e Okutama Machi, estão com média de preço superior a de lugares como Komae Shi e Fuchu Shi\n",
        "\n",
        "Abaixo podemos ver que Hinohara Mura se mostra o bairro mais caro pela quantidade de imoóveis e valores de diárias."
      ]
    },
    {
      "cell_type": "code",
      "metadata": {
        "id": "MU4vMIiAv2Sy",
        "colab": {
          "base_uri": "https://localhost:8080/",
          "height": 802
        },
        "outputId": "e52aca9a-e714-41d3-c335-c851ebc72005"
      },
      "source": [
        "#motivo de ser a mais cara \n",
        "df_clean[df_clean['neighbourhood']== 'Hinohara Mura']"
      ],
      "execution_count": 50,
      "outputs": [
        {
          "output_type": "execute_result",
          "data": {
            "text/html": [
              "<div>\n",
              "<style scoped>\n",
              "    .dataframe tbody tr th:only-of-type {\n",
              "        vertical-align: middle;\n",
              "    }\n",
              "\n",
              "    .dataframe tbody tr th {\n",
              "        vertical-align: top;\n",
              "    }\n",
              "\n",
              "    .dataframe thead th {\n",
              "        text-align: right;\n",
              "    }\n",
              "</style>\n",
              "<table border=\"1\" class=\"dataframe\">\n",
              "  <thead>\n",
              "    <tr style=\"text-align: right;\">\n",
              "      <th></th>\n",
              "      <th>id</th>\n",
              "      <th>name</th>\n",
              "      <th>host_id</th>\n",
              "      <th>host_name</th>\n",
              "      <th>neighbourhood_group</th>\n",
              "      <th>neighbourhood</th>\n",
              "      <th>latitude</th>\n",
              "      <th>longitude</th>\n",
              "      <th>room_type</th>\n",
              "      <th>price</th>\n",
              "      <th>minimum_nights</th>\n",
              "      <th>number_of_reviews</th>\n",
              "      <th>last_review</th>\n",
              "      <th>reviews_per_month</th>\n",
              "      <th>calculated_host_listings_count</th>\n",
              "      <th>availability_365</th>\n",
              "    </tr>\n",
              "  </thead>\n",
              "  <tbody>\n",
              "    <tr>\n",
              "      <th>959</th>\n",
              "      <td>16874184</td>\n",
              "      <td>東京の秘境 檜原村の絶景古民家カフェ Cafe stay in wilderness Tokyo</td>\n",
              "      <td>1932364</td>\n",
              "      <td>Naohiro</td>\n",
              "      <td>NaN</td>\n",
              "      <td>Hinohara Mura</td>\n",
              "      <td>35.72494</td>\n",
              "      <td>139.16192</td>\n",
              "      <td>Private room</td>\n",
              "      <td>5000</td>\n",
              "      <td>1</td>\n",
              "      <td>45</td>\n",
              "      <td>2020-02-23</td>\n",
              "      <td>0.94</td>\n",
              "      <td>1</td>\n",
              "      <td>147</td>\n",
              "    </tr>\n",
              "    <tr>\n",
              "      <th>961</th>\n",
              "      <td>16901092</td>\n",
              "      <td>ふれあい広場 The only village in Tokyo  Glamping siteA</td>\n",
              "      <td>22738066</td>\n",
              "      <td>Norukiajapan</td>\n",
              "      <td>NaN</td>\n",
              "      <td>Hinohara Mura</td>\n",
              "      <td>35.74234</td>\n",
              "      <td>139.12936</td>\n",
              "      <td>Entire home/apt</td>\n",
              "      <td>34000</td>\n",
              "      <td>1</td>\n",
              "      <td>17</td>\n",
              "      <td>2019-02-15</td>\n",
              "      <td>0.37</td>\n",
              "      <td>3</td>\n",
              "      <td>69</td>\n",
              "    </tr>\n",
              "    <tr>\n",
              "      <th>1174</th>\n",
              "      <td>19438986</td>\n",
              "      <td>ふれあい広場 The only village inTokyo Glamping siteB</td>\n",
              "      <td>22738066</td>\n",
              "      <td>Norukiajapan</td>\n",
              "      <td>NaN</td>\n",
              "      <td>Hinohara Mura</td>\n",
              "      <td>35.74195</td>\n",
              "      <td>139.13132</td>\n",
              "      <td>Entire home/apt</td>\n",
              "      <td>23000</td>\n",
              "      <td>1</td>\n",
              "      <td>18</td>\n",
              "      <td>2018-07-16</td>\n",
              "      <td>0.43</td>\n",
              "      <td>3</td>\n",
              "      <td>62</td>\n",
              "    </tr>\n",
              "    <tr>\n",
              "      <th>5799</th>\n",
              "      <td>36180401</td>\n",
              "      <td>【オープン記念価格】都心から90分  5000坪の敷地に1棟だけ。ここは、宿泊できる映画館</td>\n",
              "      <td>267734414</td>\n",
              "      <td>大智</td>\n",
              "      <td>NaN</td>\n",
              "      <td>Hinohara Mura</td>\n",
              "      <td>35.73988</td>\n",
              "      <td>139.10705</td>\n",
              "      <td>Entire home/apt</td>\n",
              "      <td>46857</td>\n",
              "      <td>1</td>\n",
              "      <td>15</td>\n",
              "      <td>2021-02-21</td>\n",
              "      <td>2.24</td>\n",
              "      <td>1</td>\n",
              "      <td>252</td>\n",
              "    </tr>\n",
              "    <tr>\n",
              "      <th>7434</th>\n",
              "      <td>40262650</td>\n",
              "      <td>ふれあい広場The only villagein Tokyo Glamping site C</td>\n",
              "      <td>22738066</td>\n",
              "      <td>Norukiajapan</td>\n",
              "      <td>NaN</td>\n",
              "      <td>Hinohara Mura</td>\n",
              "      <td>35.74276</td>\n",
              "      <td>139.13021</td>\n",
              "      <td>Private room</td>\n",
              "      <td>28500</td>\n",
              "      <td>1</td>\n",
              "      <td>0</td>\n",
              "      <td>NaN</td>\n",
              "      <td>NaN</td>\n",
              "      <td>3</td>\n",
              "      <td>61</td>\n",
              "    </tr>\n",
              "  </tbody>\n",
              "</table>\n",
              "</div>"
            ],
            "text/plain": [
              "            id  ... availability_365\n",
              "959   16874184  ...              147\n",
              "961   16901092  ...               69\n",
              "1174  19438986  ...               62\n",
              "5799  36180401  ...              252\n",
              "7434  40262650  ...               61\n",
              "\n",
              "[5 rows x 16 columns]"
            ]
          },
          "metadata": {
            "tags": []
          },
          "execution_count": 50
        }
      ]
    },
    {
      "cell_type": "markdown",
      "metadata": {
        "id": "hXBNsdlam5OS"
      },
      "source": [
        "#### Curiosidade sobre Hinohara Mura\n",
        "Hinohara Mura é um pequeno vilarejo que  fica aproximadamente a 66,4 km a oeste de Tokyo.\n",
        "\n",
        "Um vilarejo repleto de cachoeiras, trilhas pelas montanhas, templos e parques.\n",
        "\n",
        "Um vilarejo que possui o moderno e o tradicinonal como encontrado em todo o Japão, mas sendo um local com menor volume de pessoas."
      ]
    },
    {
      "cell_type": "code",
      "metadata": {
        "id": "q-utNoBYxQQ6",
        "colab": {
          "base_uri": "https://localhost:8080/"
        },
        "outputId": "27cbd017-3222-4e8f-998a-5fafe5aa89e3"
      },
      "source": [
        "# localidade mais barata\n",
        "df_clean.groupby([\"neighbourhood\"])[\"price\"].mean().sort_values()[:5]"
      ],
      "execution_count": 51,
      "outputs": [
        {
          "output_type": "execute_result",
          "data": {
            "text/plain": [
              "neighbourhood\n",
              "Inagi Shi              1700.000000\n",
              "Musashimurayama Shi    3000.000000\n",
              "Fussa Shi              3300.000000\n",
              "Akishima Shi           3854.000000\n",
              "Kunitachi Shi          4057.142857\n",
              "Name: price, dtype: float64"
            ]
          },
          "metadata": {
            "tags": []
          },
          "execution_count": 51
        }
      ]
    },
    {
      "cell_type": "code",
      "metadata": {
        "id": "WwTTkFXcwkid",
        "colab": {
          "base_uri": "https://localhost:8080/",
          "height": 202
        },
        "outputId": "734b7094-4afe-48b5-b16e-fbec8ab5e35f"
      },
      "source": [
        "df_clean[df_clean['neighbourhood']== 'Inagi Shi']"
      ],
      "execution_count": 52,
      "outputs": [
        {
          "output_type": "execute_result",
          "data": {
            "text/html": [
              "<div>\n",
              "<style scoped>\n",
              "    .dataframe tbody tr th:only-of-type {\n",
              "        vertical-align: middle;\n",
              "    }\n",
              "\n",
              "    .dataframe tbody tr th {\n",
              "        vertical-align: top;\n",
              "    }\n",
              "\n",
              "    .dataframe thead th {\n",
              "        text-align: right;\n",
              "    }\n",
              "</style>\n",
              "<table border=\"1\" class=\"dataframe\">\n",
              "  <thead>\n",
              "    <tr style=\"text-align: right;\">\n",
              "      <th></th>\n",
              "      <th>id</th>\n",
              "      <th>name</th>\n",
              "      <th>host_id</th>\n",
              "      <th>host_name</th>\n",
              "      <th>neighbourhood_group</th>\n",
              "      <th>neighbourhood</th>\n",
              "      <th>latitude</th>\n",
              "      <th>longitude</th>\n",
              "      <th>room_type</th>\n",
              "      <th>price</th>\n",
              "      <th>minimum_nights</th>\n",
              "      <th>number_of_reviews</th>\n",
              "      <th>last_review</th>\n",
              "      <th>reviews_per_month</th>\n",
              "      <th>calculated_host_listings_count</th>\n",
              "      <th>availability_365</th>\n",
              "    </tr>\n",
              "  </thead>\n",
              "  <tbody>\n",
              "    <tr>\n",
              "      <th>3282</th>\n",
              "      <td>29569166</td>\n",
              "      <td>Room4 for woman.30 min to Shinjuku station. 女性専用</td>\n",
              "      <td>118284184</td>\n",
              "      <td>Guest House</td>\n",
              "      <td>NaN</td>\n",
              "      <td>Inagi Shi</td>\n",
              "      <td>35.63312</td>\n",
              "      <td>139.51436</td>\n",
              "      <td>Private room</td>\n",
              "      <td>1700</td>\n",
              "      <td>30</td>\n",
              "      <td>7</td>\n",
              "      <td>2020-05-04</td>\n",
              "      <td>0.29</td>\n",
              "      <td>1</td>\n",
              "      <td>90</td>\n",
              "    </tr>\n",
              "  </tbody>\n",
              "</table>\n",
              "</div>"
            ],
            "text/plain": [
              "            id  ... availability_365\n",
              "3282  29569166  ...               90\n",
              "\n",
              "[1 rows x 16 columns]"
            ]
          },
          "metadata": {
            "tags": []
          },
          "execution_count": 52
        }
      ]
    },
    {
      "cell_type": "code",
      "metadata": {
        "colab": {
          "base_uri": "https://localhost:8080/",
          "height": 754
        },
        "id": "47hQwmq5m-3J",
        "outputId": "dd7fa12a-4d78-41a5-f3b7-6f0b03b6b131"
      },
      "source": [
        "# Qauntidade de imóveis por região (neighbourhood)\n",
        "sns.scatterplot(y=\"latitude\", x=\"longitude\", hue=\"neighbourhood\", data=df_clean,alpha= (1));\n",
        "#legenda a direita\n",
        "plt.legend(bbox_to_anchor=(1.01, 1),borderaxespad=0);\n",
        "\n"
      ],
      "execution_count": 59,
      "outputs": [
        {
          "output_type": "display_data",
          "data": {
            "image/png": "[encoded data removed]",
            "text/plain": [
              "<Figure size 432x288 with 1 Axes>"
            ]
          },
          "metadata": {
            "tags": [],
            "needs_background": "light"
          }
        }
      ]
    },
    {
      "cell_type": "code",
      "metadata": {
        "id": "BFIfa28jyGEF",
        "colab": {
          "base_uri": "https://localhost:8080/",
          "height": 279
        },
        "outputId": "77b3d136-0746-443e-9584-7fd0b2d9a033"
      },
      "source": [
        "#plot de preços tokyo\n",
        "sns.scatterplot(y=\"latitude\", x=\"longitude\", hue=\"price\", data=df_clean,alpha= (1));\n",
        "#legenda a direita\n",
        "plt.legend(bbox_to_anchor=(1.01, 1),borderaxespad=0);"
      ],
      "execution_count": 53,
      "outputs": [
        {
          "output_type": "display_data",
          "data": {
            "image/png": "[encoded data removed]",
            "text/plain": [
              "<Figure size 432x288 with 1 Axes>"
            ]
          },
          "metadata": {
            "tags": [],
            "needs_background": "light"
          }
        }
      ]
    },
    {
      "cell_type": "markdown",
      "metadata": {
        "id": "j5Z5cC4Lpjgd"
      },
      "source": [
        "## Conclusões\n",
        "\n",
        "A análise feita com a base de dados do Airbnb resumida, nos mostrou que haviam *outliers* em algumas variáveis.\n",
        "\n",
        "\n",
        "Podemos notar que algumas localidades possui poucos imóveis e valores de \n",
        "diárias com valores que distorcem as informações estatísticas.\n",
        "\n",
        "\n",
        "Podemos concluir que uma análise mais profunda com o *Dataset* completo, possuindo 106 atributos possa nos fornecer informações mais precisas.\n",
        "\n",
        "\n"
      ]
    }
  ]
}